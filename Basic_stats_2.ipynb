{
  "nbformat": 4,
  "nbformat_minor": 0,
  "metadata": {
    "colab": {
      "provenance": []
    },
    "kernelspec": {
      "name": "python3",
      "display_name": "Python 3"
    },
    "language_info": {
      "name": "python"
    }
  },
  "cells": [
    {
      "cell_type": "code",
      "execution_count": null,
      "metadata": {
        "id": "7NWGr3jcjeTb"
      },
      "outputs": [],
      "source": [
        "import numpy as np\n",
        "import scipy.stats as stats\n",
        "data = np.array([1.13, 1.55, 1.43, 0.92, 1.25, 1.36, 1.32, 0.85, 1.07, 1.48, 1.20, 1.33, 1.18, 1.22, 1.29])"
      ]
    },
    {
      "cell_type": "markdown",
      "source": [
        "# a) Build 99% Confidence Interval using sample standard deviation"
      ],
      "metadata": {
        "id": "2YaT4x6Oj-JT"
      }
    },
    {
      "cell_type": "code",
      "source": [
        "n = len(data)\n",
        "mean_sample = np.mean(data)\n",
        "std_sample = np.std(data, ddof=1)\n",
        "confidence_level = 0.99\n",
        "alpha = 1 - confidence_level\n",
        "\n",
        "t_critical = stats.t.ppf(1 - alpha/2, df=n-1)\n",
        "\n",
        "margin_of_error_sample = t_critical * (std_sample / np.sqrt(n))\n",
        "ci_lower_sample = mean_sample - margin_of_error_sample\n",
        "ci_upper_sample = mean_sample + margin_of_error_sample\n",
        "\n",
        "print(f\"99% Confidence Interval using Sample Std: ({ci_lower_sample:.3f}, {ci_upper_sample:.3f})\")"
      ],
      "metadata": {
        "colab": {
          "base_uri": "https://localhost:8080/"
        },
        "id": "ia5t4mEfj3-O",
        "outputId": "e861811d-c020-46ec-c6e5-e62169c9a41e"
      },
      "execution_count": null,
      "outputs": [
        {
          "output_type": "stream",
          "name": "stdout",
          "text": [
            "99% Confidence Interval using Sample Std: (1.090, 1.387)\n"
          ]
        }
      ]
    },
    {
      "cell_type": "markdown",
      "source": [
        "# b) Build 99% Confidence Interval using known population standard deviation"
      ],
      "metadata": {
        "id": "_Z7ggou7kFvw"
      }
    },
    {
      "cell_type": "code",
      "source": [
        "\n",
        "std_population = 0.2\n",
        "\n",
        "z_critical = stats.norm.ppf(1 - alpha/2)\n",
        "\n",
        "margin_of_error_population = z_critical * (std_population / np.sqrt(n))\n",
        "ci_lower_population = mean_sample - margin_of_error_population\n",
        "ci_upper_population = mean_sample + margin_of_error_population\n",
        "\n",
        "print(f\"99% Confidence Interval using Population Std: ({ci_lower_population:.3f}, {ci_upper_population:.3f})\")\n"
      ],
      "metadata": {
        "colab": {
          "base_uri": "https://localhost:8080/"
        },
        "id": "W3TAQz4VkGYb",
        "outputId": "60e94932-eb80-4378-9594-52be3af0e0e0"
      },
      "execution_count": null,
      "outputs": [
        {
          "output_type": "stream",
          "name": "stdout",
          "text": [
            "99% Confidence Interval using Population Std: (1.106, 1.372)\n"
          ]
        }
      ]
    }
  ]
}