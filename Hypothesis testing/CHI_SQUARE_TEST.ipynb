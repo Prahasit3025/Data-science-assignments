{
  "nbformat": 4,
  "nbformat_minor": 0,
  "metadata": {
    "colab": {
      "provenance": []
    },
    "kernelspec": {
      "name": "python3",
      "display_name": "Python 3"
    },
    "language_info": {
      "name": "python"
    }
  },
  "cells": [
    {
      "cell_type": "markdown",
      "source": [
        "#1. Importing and Assigning values"
      ],
      "metadata": {
        "id": "y5JwYzw8IimC"
      }
    },
    {
      "cell_type": "code",
      "execution_count": 1,
      "metadata": {
        "id": "-XCJAR9bw2Oy",
        "colab": {
          "base_uri": "https://localhost:8080/"
        },
        "outputId": "c36ca5a4-9d3c-4eec-99a9-ef9a0fcf116a"
      },
      "outputs": [
        {
          "output_type": "stream",
          "name": "stdout",
          "text": [
            "Observed Frequencies:\n",
            "                   Very Satisfied  Satisfied  Neutral  Unsatisfied  \\\n",
            "Smart Thermostat              50         80       60           30   \n",
            "Smart Light                   70        100       90           50   \n",
            "\n",
            "                  Very Unsatisfied  \n",
            "Smart Thermostat                20  \n",
            "Smart Light                     50  \n"
          ]
        }
      ],
      "source": [
        "import numpy as np\n",
        "import pandas as pd\n",
        "import scipy.stats as stats\n",
        "\n",
        "data = {\n",
        "    'Very Satisfied': [50, 70],\n",
        "    'Satisfied': [80, 100],\n",
        "    'Neutral': [60, 90],\n",
        "    'Unsatisfied': [30, 50],\n",
        "    'Very Unsatisfied': [20, 50]\n",
        "}\n",
        "\n",
        "df = pd.DataFrame(data, index=['Smart Thermostat', 'Smart Light'])\n",
        "\n",
        "print(\"Observed Frequencies:\\n\", df)"
      ]
    },
    {
      "cell_type": "markdown",
      "source": [
        "# 1. Compute the Expected Frequencies"
      ],
      "metadata": {
        "id": "QIpJhfVCJOFp"
      }
    },
    {
      "cell_type": "code",
      "source": [
        "observed = df.values\n",
        "row_sums = observed.sum(axis=1)\n",
        "col_sums = observed.sum(axis=0)\n",
        "total = observed.sum()\n",
        "\n",
        "expected = np.zeros_like(observed)\n",
        "for i in range(observed.shape[0]):\n",
        "    for j in range(observed.shape[1]):\n",
        "        expected[i, j] = (row_sums[i] * col_sums[j]) / total\n",
        "\n",
        "print(\"\\nExpected Frequencies:\\n\", expected)\n",
        "\n",
        "chi_square_statistic = ((observed - expected) ** 2 / expected).sum()"
      ],
      "metadata": {
        "colab": {
          "base_uri": "https://localhost:8080/"
        },
        "id": "8xVmMWawJL29",
        "outputId": "4ae9332c-b031-4717-cff8-0c2fcf9cbfb4"
      },
      "execution_count": 2,
      "outputs": [
        {
          "output_type": "stream",
          "name": "stdout",
          "text": [
            "\n",
            "Expected Frequencies:\n",
            " [[ 48  72  60  32  28]\n",
            " [ 72 108  90  48  42]]\n"
          ]
        }
      ]
    },
    {
      "cell_type": "markdown",
      "source": [
        "# 2. Determine the Critical Value"
      ],
      "metadata": {
        "id": "U_bTV1A6Jd2R"
      }
    },
    {
      "cell_type": "code",
      "source": [
        "df = (observed.shape[0] - 1) * (observed.shape[1] - 1)  # (r-1)(c-1)\n",
        "alpha = 0.05\n",
        "critical_value = stats.chi2.ppf(1 - alpha, df)"
      ],
      "metadata": {
        "id": "EKo9HWpyJDA4"
      },
      "execution_count": 3,
      "outputs": []
    },
    {
      "cell_type": "markdown",
      "source": [
        "# 3. Make a Decision"
      ],
      "metadata": {
        "id": "FEbNt8aIJ0Au"
      }
    },
    {
      "cell_type": "code",
      "source": [
        "de = chi_square_statistic > critical_value\n",
        "\n",
        "print(f\"\\nChi-Square Statistic: {chi_square_statistic}\")\n",
        "print(f\"Critical Value: {critical_value}\")\n",
        "print(f\"Decision to Reject Null Hypothesis: {de}\")\n",
        "\n",
        "if de:\n",
        "    c = \"There is a significant association between the type of device purchased and customer satisfaction levels.\"\n",
        "else:\n",
        "    c = \"There is no significant association between the type of device purchased and customer satisfaction levels.\"\n",
        "\n",
        "print(\"\\nFinal Answer:\", c)\n"
      ],
      "metadata": {
        "colab": {
          "base_uri": "https://localhost:8080/"
        },
        "id": "fN_kbMMrJ3M5",
        "outputId": "09308189-fbb5-4e26-f396-1a59e845d3b0"
      },
      "execution_count": 4,
      "outputs": [
        {
          "output_type": "stream",
          "name": "stdout",
          "text": [
            "\n",
            "Chi-Square Statistic: 5.638227513227513\n",
            "Critical Value: 9.487729036781154\n",
            "Decision to Reject Null Hypothesis: False\n",
            "\n",
            "Final Answer: There is no significant association between the type of device purchased and customer satisfaction levels.\n"
          ]
        }
      ]
    }
  ]
}