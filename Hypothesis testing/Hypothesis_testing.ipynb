{
  "nbformat": 4,
  "nbformat_minor": 0,
  "metadata": {
    "colab": {
      "provenance": []
    },
    "kernelspec": {
      "name": "python3",
      "display_name": "Python 3"
    },
    "language_info": {
      "name": "python"
    }
  },
  "cells": [
    {
      "cell_type": "markdown",
      "source": [
        "#0. Importing and Assigning values  "
      ],
      "metadata": {
        "id": "y9-UFxN-oUs4"
      }
    },
    {
      "cell_type": "code",
      "execution_count": null,
      "metadata": {
        "id": "oF_dOMRhoJWx"
      },
      "outputs": [],
      "source": [
        "import scipy.stats as stats\n",
        "import numpy as np\n",
        "\n",
        "sample_mean_cost = 3050\n",
        "X = 600\n",
        "operating_cost_fixed = 1000\n",
        "cost_per_unit = 5\n",
        "sample_size = 25\n",
        "sigma_units = 25"
      ]
    },
    {
      "cell_type": "markdown",
      "source": [
        "#1. State the Hypotheses\n",
        "\n",
        "Null hypothesis (H0): The observed weekly cost is equal to the theoretical cost.\n",
        "\n",
        "Alternative hypothesis (H1): The observed weekly cost is greater than the theoretical cost.\n"
      ],
      "metadata": {
        "id": "m8LWZT11pBFT"
      }
    },
    {
      "cell_type": "markdown",
      "source": [
        "# 2. Calculate the Theoretical Mean Weekly Cost"
      ],
      "metadata": {
        "id": "5XJ4e_dMp8TL"
      }
    },
    {
      "cell_type": "code",
      "source": [
        "theoretical_mean_cost = operating_cost_fixed + cost_per_unit * X"
      ],
      "metadata": {
        "id": "FuY-bSL7pFoo"
      },
      "execution_count": null,
      "outputs": []
    },
    {
      "cell_type": "markdown",
      "source": [
        "# 3. Calculate the Test Statistic (t)"
      ],
      "metadata": {
        "id": "eee99UChrH5I"
      }
    },
    {
      "cell_type": "code",
      "source": [
        "sigma_cost = cost_per_unit * sigma_units\n",
        "sem = sigma_cost / np.sqrt(sample_size)\n",
        "t_statistic = (sample_mean_cost - theoretical_mean_cost) / sem"
      ],
      "metadata": {
        "id": "xG2R9XEBrJnZ"
      },
      "execution_count": null,
      "outputs": []
    },
    {
      "cell_type": "markdown",
      "source": [
        "# 4. Determine the Critical Value\n",
        "\n"
      ],
      "metadata": {
        "id": "8huDAwAcrdtN"
      }
    },
    {
      "cell_type": "code",
      "source": [
        "alpha = 0.05\n",
        "critical_value = stats.t.ppf(1 - alpha, df=sample_size - 1)"
      ],
      "metadata": {
        "id": "ZfGjOc2krhka"
      },
      "execution_count": null,
      "outputs": []
    },
    {
      "cell_type": "markdown",
      "source": [
        "# 5. Make a Decision\n"
      ],
      "metadata": {
        "id": "XTIHIg4lr-XR"
      }
    },
    {
      "cell_type": "code",
      "source": [
        "decision = t_statistic > critical_value\n",
        "print(f\"Theoretical Mean Weekly Cost: {theoretical_mean_cost}\")\n",
        "print(f\"Sample Mean Weekly Cost: {sample_mean_cost}\")\n",
        "print(f\"Test Statistic (t): {t_statistic}\")\n",
        "print(f\"Critical Value (t): {critical_value}\")\n",
        "print(f\"Decision to Reject Null Hypothesis: {decision}\")\n",
        "if decision:\n",
        "    c = \"There is strong evidence to support the restaurant owners' claim that the weekly operating costs are higher than the model suggests.\"\n",
        "else:\n",
        "    c = \"There is not enough evidence to support the restaurant owners' claim that the weekly operating costs are higher than the model suggests.\"\n",
        "\n",
        "print(c)"
      ],
      "metadata": {
        "colab": {
          "base_uri": "https://localhost:8080/"
        },
        "id": "CHdRPOBlsDF3",
        "outputId": "08f7f6d9-9ee9-44db-a2c4-4e685a06890f"
      },
      "execution_count": null,
      "outputs": [
        {
          "output_type": "stream",
          "name": "stdout",
          "text": [
            "Theoretical Mean Weekly Cost: 4000\n",
            "Sample Mean Weekly Cost: 3050\n",
            "Test Statistic (t): -38.0\n",
            "Critical Value (t): 1.7108820799094275\n",
            "Decision to Reject Null Hypothesis: False\n",
            "There is not enough evidence to support the restaurant owners' claim that the weekly operating costs are higher than the model suggests.\n"
          ]
        }
      ]
    }
  ]
}